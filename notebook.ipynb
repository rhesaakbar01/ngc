{
 "cells": [
  {
   "cell_type": "markdown",
   "metadata": {},
   "source": [
    "# Tittle A"
   ]
  },
  {
   "cell_type": "markdown",
   "metadata": {},
   "source": [
    "## Subtitle A.1"
   ]
  },
  {
   "cell_type": "code",
   "execution_count": 1,
   "metadata": {},
   "outputs": [
    {
     "name": "stdout",
     "output_type": "stream",
     "text": [
      "Hello World\n"
     ]
    }
   ],
   "source": [
    "print(\"Hello World\")"
   ]
  },
  {
   "cell_type": "markdown",
   "metadata": {},
   "source": [
    "# Title B"
   ]
  },
  {
   "cell_type": "markdown",
   "metadata": {},
   "source": [
    "ordinary\n",
    "\n",
    "*Italic*\n",
    "\n",
    "**Bold**\n",
    "\n",
    "`Mark`\n",
    "\n",
    "**`Combine`**"
   ]
  },
  {
   "cell_type": "markdown",
   "metadata": {},
   "source": [
    "Bullet point\n",
    "- sefef\n",
    "- ffefe\n",
    "\n",
    "Number List\n",
    "1. eff\n",
    "2. feffef"
   ]
  },
  {
   "cell_type": "markdown",
   "metadata": {},
   "source": [
    "Table\n",
    "\n",
    "|Name|Sex|\n",
    "|:--:|--:|\n",
    "|Rhesa|Male|\n",
    "|Yolan|Female|\n",
    "|Tyas|Female|\n",
    "|Hasan|Male|\n",
    "|Ardi|Male|\n",
    "|Fardila|Female|"
   ]
  }
 ],
 "metadata": {
  "kernelspec": {
   "display_name": "shopee",
   "language": "python",
   "name": "python3"
  },
  "language_info": {
   "codemirror_mode": {
    "name": "ipython",
    "version": 3
   },
   "file_extension": ".py",
   "mimetype": "text/x-python",
   "name": "python",
   "nbconvert_exporter": "python",
   "pygments_lexer": "ipython3",
   "version": "3.9.12"
  }
 },
 "nbformat": 4,
 "nbformat_minor": 2
}
